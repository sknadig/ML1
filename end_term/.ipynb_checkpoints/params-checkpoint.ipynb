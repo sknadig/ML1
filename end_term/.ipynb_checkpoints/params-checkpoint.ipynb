{
 "cells": [
  {
   "cell_type": "code",
   "execution_count": 238,
   "metadata": {},
   "outputs": [],
   "source": [
    "import numpy as np\n",
    "import scipy as sp\n",
    "import math\n",
    "import xgboost as xgb\n",
    "from sklearn.model_selection import train_test_split\n",
    "from sklearn.neighbors import KNeighborsClassifier\n",
    "from sklearn.svm import SVC\n",
    "from sklearn.gaussian_process import GaussianProcessClassifier\n",
    "from sklearn.gaussian_process.kernels import RBF\n",
    "from sklearn.tree import DecisionTreeClassifier\n",
    "from sklearn.ensemble import RandomForestClassifier, AdaBoostClassifier\n",
    "\n",
    "classifiers = [\n",
    "    KNeighborsClassifier(3),\n",
    "    SVC(gamma=2, C=1, kernel=\"linear\"),\n",
    "    GaussianProcessClassifier(1.0 * RBF(1.0)),\n",
    "    DecisionTreeClassifier(max_depth=5),\n",
    "    RandomForestClassifier(max_depth=5, n_estimators=10, max_features=1)]\n",
    "\n",
    "Classifiers = [\"KNN\", \"SVM\", \"GP\", \"DT\", \"RF\", \"XGB\"]\n",
    "beta = \"XGB\"\n",
    "\n",
    "parameters = {\"KNN\":{\"n_neighbors\":[], \"n_jobs\":-1},\n",
    "              \"SVM\":{\"C\":[],\"kernel\":[],\"degree\":[],\"probability\":True},\n",
    "              \"GP\":{\"kernel\":[],\"n_restarts_optimizer\":[], \"n_jobs\":-1},\n",
    "              \"DT\":{\"splitter\":[], \"max_depth\":[]},\n",
    "              \"RF\":{\"n_estimators\":[], \"max_depth\":[] },\n",
    "              \"XGB\":{\"learning_rate\":[], \"n_estimators\":[], \"max_depth\":[],\"min_child_weight\":[], \"nthread\":8}\n",
    "            }"
   ]
  },
  {
   "cell_type": "code",
   "execution_count": 239,
   "metadata": {},
   "outputs": [],
   "source": [
    "def sample_hp_Ai(Ai):\n",
    "    if(Ai is \"KNN\"):\n",
    "        parameters[\"KNN\"][\"n_neighbors\"].append(math.ceil(np.random.uniform(100)))\n",
    "        return(parameters[\"KNN\"])\n",
    "    elif(Ai is \"SVM\"):\n",
    "        parameters[\"SVM\"][\"C\"].append(float(\"{0:.2f}\".format(abs(np.random.normal(loc=1.0, scale=1.0)))))\n",
    "        parameters[\"SVM\"][\"kernel\"].append(np.random.choice([\"linear\", \"rbf\"]))\n",
    "        parameters[\"SVM\"][\"degree\"].append(np.random.randint(1,4))\n",
    "        return(parameters[\"SVM\"])\n",
    "    elif(Ai is \"GP\"):\n",
    "        parameters[\"GP\"][\"kernel\"].append(np.random.choice([\"linear\", \"rbf\"]))\n",
    "        parameters[\"GP\"][\"n_restarts_optimizer\"].append(np.random.randint(1,10))\n",
    "        return(parameters[\"GP\"])\n",
    "    elif(Ai is \"DT\"):\n",
    "        parameters[\"DT\"][\"splitter\"].append(np.random.choice([\"best\", \"random\"]))\n",
    "        parameters[\"DT\"][\"max_depth\"].append(np.random.randint(1,100))\n",
    "        return(parameters[\"DT\"])\n",
    "    elif(Ai is \"RF\"):\n",
    "        parameters[\"RF\"][\"n_estimators\"].append(np.random.randint(1,20))\n",
    "        parameters[\"RF\"][\"max_depth\"].append(np.random.randint(1,100))\n",
    "        return(parameters[\"RF\"])\n",
    "    elif(Ai is \"XGB\"):\n",
    "        parameters[\"XGB\"][\"learning_rate\"].append(float(\"{0:.2f}\".format(abs(np.random.normal(loc=1.0, scale=1.0)))))\n",
    "        parameters[\"XGB\"][\"n_estimators\"].append(np.random.randint(800,2000))\n",
    "        parameters[\"XGB\"][\"max_depth\"].append(np.random.randint(5,200))\n",
    "        parameters[\"XGB\"][\"min_child_weight\"].append(np.random.randint(1,10))\n",
    "        return(parameters[\"XGB\"])"
   ]
  },
  {
   "cell_type": "code",
   "execution_count": 240,
   "metadata": {
    "collapsed": true
   },
   "outputs": [],
   "source": [
    "def get_params(A, B, P, N):\n",
    "    mu = np.random.dirichlet(P)\n",
    "    N = [int(mu_i*N) for mu_i in mu]\n",
    "    [sample_hp_Ai(Classifiers[i]) for i in range(len(Classifiers)) for j in range(N[i])]\n",
    "    Phi = sample_hp_Ai(\"XGB\")\n",
    "    Psi = [parameters[key] for key in parameters if key is not \"XGB\"]\n",
    "    return Phi, N, Psi"
   ]
  },
  {
   "cell_type": "code",
   "execution_count": 241,
   "metadata": {},
   "outputs": [
    {
     "data": {
      "text/plain": [
       "({'learning_rate': [1.54],\n",
       "  'max_depth': [70],\n",
       "  'min_child_weight': [9],\n",
       "  'n_estimators': [1474],\n",
       "  'nthread': 8},\n",
       " [2, 2, 1, 1, 0, 0],\n",
       " [{'n_jobs': -1, 'n_neighbors': [39, 53]},\n",
       "  {'C': [1.15, 0.92],\n",
       "   'degree': [2, 1],\n",
       "   'kernel': ['rbf', 'rbf'],\n",
       "   'probability': True},\n",
       "  {'kernel': ['linear'], 'n_jobs': -1, 'n_restarts_optimizer': [5]},\n",
       "  {'max_depth': [46], 'splitter': ['random']},\n",
       "  {'max_depth': [], 'n_estimators': []}])"
      ]
     },
     "execution_count": 241,
     "metadata": {},
     "output_type": "execute_result"
    }
   ],
   "source": [
    "get_params(Classifiers, \"RF\", P=(np.arange(1,len(Classifiers)+1)*100)[::-1], N=10)"
   ]
  },
  {
   "cell_type": "code",
   "execution_count": 242,
   "metadata": {},
   "outputs": [
    {
     "name": "stdout",
     "output_type": "stream",
     "text": [
      "KNN {'n_neighbors': [39, 53], 'n_jobs': -1}\n",
      "SVM {'C': [1.15, 0.92], 'kernel': ['rbf', 'rbf'], 'degree': [2, 1], 'probability': True}\n",
      "GP {'kernel': ['linear'], 'n_restarts_optimizer': [5], 'n_jobs': -1}\n",
      "DT {'splitter': ['random'], 'max_depth': [46]}\n",
      "RF {'n_estimators': [], 'max_depth': []}\n",
      "XGB {'learning_rate': [1.54], 'n_estimators': [1474], 'max_depth': [70], 'min_child_weight': [9], 'nthread': 8}\n"
     ]
    }
   ],
   "source": [
    "for key in parameters:\n",
    "    print(key,parameters[key])"
   ]
  },
  {
   "cell_type": "code",
   "execution_count": null,
   "metadata": {
    "collapsed": true
   },
   "outputs": [],
   "source": []
  }
 ],
 "metadata": {
  "kernelspec": {
   "display_name": "Python 3",
   "language": "python",
   "name": "python3"
  },
  "language_info": {
   "codemirror_mode": {
    "name": "ipython",
    "version": 3
   },
   "file_extension": ".py",
   "mimetype": "text/x-python",
   "name": "python",
   "nbconvert_exporter": "python",
   "pygments_lexer": "ipython3",
   "version": "3.6.3"
  }
 },
 "nbformat": 4,
 "nbformat_minor": 2
}
