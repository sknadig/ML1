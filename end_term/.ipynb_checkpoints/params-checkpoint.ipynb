{
 "cells": [
  {
   "cell_type": "code",
   "execution_count": 135,
   "metadata": {},
   "outputs": [],
   "source": [
    "import numpy as np\n",
    "import scipy as sp\n",
    "import math\n",
    "import xgboost as xgb\n",
    "from sklearn.model_selection import train_test_split\n",
    "from sklearn.neighbors import KNeighborsClassifier\n",
    "from sklearn.svm import SVC\n",
    "from sklearn.gaussian_process import GaussianProcessClassifier\n",
    "from sklearn.gaussian_process.kernels import RBF\n",
    "from sklearn.tree import DecisionTreeClassifier\n",
    "from sklearn.ensemble import RandomForestClassifier, AdaBoostClassifier\n",
    "classifiers = [\n",
    "    KNeighborsClassifier(3),\n",
    "    SVC(gamma=2, C=1, kernel=\"linear\"),\n",
    "    GaussianProcessClassifier(1.0 * RBF(1.0)),\n",
    "    DecisionTreeClassifier(max_depth=5),\n",
    "    RandomForestClassifier(max_depth=5, n_estimators=10, max_features=1)]\n",
    "\n",
    "Classifiers = [\"KNN\", \"SVM\", \"GP\", \"DT\", \"RF\"]\n",
    "Beta = \"XGB\"\n",
    "\n",
    "parameters = {\"KNN\":{\"n_neighbors\":[], \"n_jobs\":-1},\n",
    "              \"SVM\":{\"C\":1.0,\"kernel\":\"linear\",\"degree\":1,\"probability\":True},\n",
    "              \"GP\":{\"kernel\":\"linear\",\"n_restarts_optimizer\":2, \"n_jobs\":-1},\n",
    "              \"DT\":{\"splitter\":\"best\", \"max_depth\":100},\n",
    "              \"RF\":{\"n_estimators\":10, \"max_depth\":100 },\n",
    "              \"XGB\":{\"learning_rate\":0.1, \"n_estimators\":1000, \"max_depth\":5,\"min_child_weight\":1, \"nthread\":8}\n",
    "            }"
   ]
  },
  {
   "cell_type": "code",
   "execution_count": 136,
   "metadata": {
    "collapsed": true
   },
   "outputs": [],
   "source": [
    "def sample_hp_Ai(Ai):\n",
    "    if(Ai is \"KNN\"):\n",
    "        parameters[\"KNN\"][\"n_neighbors\"] = math.ceil(np.random.uniform(100))\n",
    "        return(parameters[\"KNN\"])\n",
    "    elif(Ai is \"SVM\"):\n",
    "        parameters[\"SVM\"][\"C\"] = float(\"{0:.2f}\".format(abs(np.random.normal(loc=1.0, scale=1.0))))\n",
    "        parameters[\"SVM\"][\"kernel\"] = np.random.choice([\"linear\", \"rbf\"])\n",
    "        parameters[\"SVM\"][\"degree\"] = np.random.randint(1,4)\n",
    "        return(parameters[\"SVM\"])\n",
    "    elif(Ai is \"GP\"):\n",
    "        parameters[\"GP\"][\"C\"] = float(\"{0:.2f}\".format(abs(np.random.normal(loc=1.0, scale=1.0))))\n",
    "        parameters[\"GP\"][\"n_restarts_optimizer\"] = np.random.randint(1,10)\n",
    "        return(parameters[\"GP\"])\n",
    "    elif(Ai is \"DT\"):\n",
    "        parameters[\"DT\"][\"splitter\"] = np.random.choice([\"best\", \"random\"])\n",
    "        parameters[\"DT\"][\"max_depth\"] =np.random.randint(1,100)\n",
    "        return(parameters[\"DT\"])\n",
    "    elif(Ai is \"RF\"):\n",
    "        parameters[\"RF\"][\"n_estimators\"] = np.random.randint(1,20)\n",
    "        parameters[\"RF\"][\"max_depth\"] = np.random.randint(1,100)\n",
    "        return(parameters[\"RF\"])\n",
    "    elif(Ai is \"XGB\"):\n",
    "        parameters[\"XGB\"][\"learning_rate\"] = float(\"{0:.2f}\".format(abs(np.random.normal(loc=1.0, scale=1.0))))\n",
    "        parameters[\"XGB\"][\"n_estimators\"] = np.random.randint(800,2000)\n",
    "        parameters[\"XGB\"][\"max_depth\"] = np.random.randint(5,200)\n",
    "        parameters[\"XGB\"][\"min_child_weight\"] = np.random.randint(1,10)\n",
    "        return(parameters[\"XGB\"])"
   ]
  },
  {
   "cell_type": "code",
   "execution_count": 137,
   "metadata": {
    "collapsed": true
   },
   "outputs": [],
   "source": [
    "def get_params(A, B, P, N):\n",
    "    mu = np.random.dirichlet(P)\n",
    "    Ni = [int(mu_i*N) for mu_i in mu]\n",
    "    Psi = []\n",
    "    print(\"mu is: \", mu)\n",
    "    print(\"Ni is: \",Ni)\n",
    "    for i in range(len(Classifiers)):\n",
    "        print(\"Getting hp for:\", Classifiers[i])\n",
    "        for j in range(Ni[i]):\n",
    "            temp = [sample_hp_Ai(Classifiers[i])]\n",
    "            print(\"HP is:\", temp)\n",
    "            Psi.append(temp)\n",
    "#         print(\"Partial list is:\", Psi)\n",
    "    Phi = sample_hp_Ai(\"XGB\")\n",
    "    return Phi, Ni, Psi"
   ]
  },
  {
   "cell_type": "code",
   "execution_count": 138,
   "metadata": {},
   "outputs": [
    {
     "name": "stdout",
     "output_type": "stream",
     "text": [
      "KNN\t{'n_neighbors': [90], 'n_jobs': -1}\n",
      "SVM\t{'C': 0.24, 'kernel': 'linear', 'degree': 3, 'probability': True}\n",
      "GP\t{'kernel': 'linear', 'n_restarts_optimizer': 9, 'n_jobs': -1, 'C': 1.54}\n",
      "DT\t{'splitter': 'random', 'max_depth': 46}\n",
      "RF\t{'n_estimators': 9, 'max_depth': 95}\n",
      "XGB\t{'learning_rate': 0.1, 'n_estimators': 1000, 'max_depth': 5, 'min_child_weight': 1, 'nthread': 8}\n"
     ]
    }
   ],
   "source": [
    "sample_hp_Ai(\"KNN\")\n",
    "sample_hp_Ai(\"SVM\")\n",
    "sample_hp_Ai(\"GP\")\n",
    "sample_hp_Ai(\"DT\")\n",
    "sample_hp_Ai(\"RF\")\n",
    "for key in parameters:\n",
    "    print(\"{0}\\t{1}\".format(key,parameters[key]))"
   ]
  },
  {
   "cell_type": "code",
   "execution_count": 125,
   "metadata": {},
   "outputs": [
    {
     "name": "stdout",
     "output_type": "stream",
     "text": [
      "mu is:  [ 0.3331795   0.26484162  0.20607145  0.13016252  0.06574491]\n",
      "Ni is:  [3, 2, 2, 1, 0]\n",
      "Getting hp for: KNN\n",
      "HP is: [{'n_neighbors': 3, 'n_jobs': -1}]\n",
      "HP is: [{'n_neighbors': 15, 'n_jobs': -1}]\n",
      "HP is: [{'n_neighbors': 62, 'n_jobs': -1}]\n",
      "Getting hp for: SVM\n",
      "HP is: [{'C': 1.16, 'kernel': 'rbf', 'degree': 1, 'probability': True}]\n",
      "HP is: [{'C': 0.83, 'kernel': 'rbf', 'degree': 1, 'probability': True}]\n",
      "Getting hp for: GP\n",
      "HP is: [{'kernel': 'linear', 'n_restarts_optimizer': 9, 'n_jobs': -1, 'C': 0.33}]\n",
      "HP is: [{'kernel': 'linear', 'n_restarts_optimizer': 1, 'n_jobs': -1, 'C': 0.48}]\n",
      "Getting hp for: DT\n",
      "HP is: [{'splitter': 'random', 'max_depth': 12}]\n",
      "Getting hp for: RF\n"
     ]
    },
    {
     "data": {
      "text/plain": [
       "({'learning_rate': 0.36,\n",
       "  'max_depth': 14,\n",
       "  'min_child_weight': 2,\n",
       "  'n_estimators': 1021,\n",
       "  'nthread': 8},\n",
       " [3, 2, 2, 1, 0],\n",
       " [[{'n_jobs': -1, 'n_neighbors': 62}],\n",
       "  [{'n_jobs': -1, 'n_neighbors': 62}],\n",
       "  [{'n_jobs': -1, 'n_neighbors': 62}],\n",
       "  [{'C': 0.83, 'degree': 1, 'kernel': 'rbf', 'probability': True}],\n",
       "  [{'C': 0.83, 'degree': 1, 'kernel': 'rbf', 'probability': True}],\n",
       "  [{'C': 0.48, 'kernel': 'linear', 'n_jobs': -1, 'n_restarts_optimizer': 1}],\n",
       "  [{'C': 0.48, 'kernel': 'linear', 'n_jobs': -1, 'n_restarts_optimizer': 1}],\n",
       "  [{'max_depth': 12, 'splitter': 'random'}]])"
      ]
     },
     "execution_count": 125,
     "metadata": {},
     "output_type": "execute_result"
    }
   ],
   "source": [
    "get_params(Classifiers, \"RF\", P=(np.arange(1,len(Classifiers)+1)*100)[::-1], N=10)"
   ]
  }
 ],
 "metadata": {
  "kernelspec": {
   "display_name": "Python 3",
   "language": "python",
   "name": "python3"
  },
  "language_info": {
   "codemirror_mode": {
    "name": "ipython",
    "version": 3
   },
   "file_extension": ".py",
   "mimetype": "text/x-python",
   "name": "python",
   "nbconvert_exporter": "python",
   "pygments_lexer": "ipython3",
   "version": "3.6.3"
  }
 },
 "nbformat": 4,
 "nbformat_minor": 2
}
