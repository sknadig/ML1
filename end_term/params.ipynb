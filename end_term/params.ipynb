{
 "cells": [
  {
   "cell_type": "code",
   "execution_count": 1,
   "metadata": {},
   "outputs": [
    {
     "name": "stderr",
     "output_type": "stream",
     "text": [
      "/home/neo/anaconda3/lib/python3.6/site-packages/sklearn/cross_validation.py:41: DeprecationWarning: This module was deprecated in version 0.18 in favor of the model_selection module into which all the refactored classes and functions are moved. Also note that the interface of the new CV iterators are different from that of this module. This module will be removed in 0.20.\n",
      "  \"This module will be removed in 0.20.\", DeprecationWarning)\n"
     ]
    }
   ],
   "source": [
    "import numpy as np\n",
    "import scipy as sp\n",
    "import math\n",
    "import xgboost as xgb\n",
    "from sklearn.model_selection import train_test_split\n",
    "from sklearn.neighbors import KNeighborsClassifier\n",
    "from sklearn.svm import SVC\n",
    "from sklearn.gaussian_process import GaussianProcessClassifier\n",
    "from sklearn.gaussian_process.kernels import RBF\n",
    "from sklearn.tree import DecisionTreeClassifier\n",
    "from sklearn.ensemble import RandomForestClassifier, AdaBoostClassifier\n",
    "import pandas as pd\n",
    "classifiers = [\n",
    "    KNeighborsClassifier(3),\n",
    "    SVC(gamma=2, C=1, kernel=\"linear\"),\n",
    "    GaussianProcessClassifier(1.0 * RBF(1.0)),\n",
    "    DecisionTreeClassifier(max_depth=5),\n",
    "    RandomForestClassifier(max_depth=5, n_estimators=10, max_features=1)]\n",
    "\n",
    "Classifiers = [\"KNN\", \"SVM\", \"GP\", \"DT\", \"RF\", \"XGB\"]\n",
    "beta = \"XGB\"\n",
    "\n",
    "parameters = {\"KNN\":{\"n_neighbors\":[], \"n_jobs\":-1},\n",
    "              \"SVM\":{\"C\":[],\"kernel\":[],\"degree\":[],\"probability\":True},\n",
    "              \"GP\":{\"kernel\":[],\"n_restarts_optimizer\":[], \"n_jobs\":-1},\n",
    "              \"DT\":{\"splitter\":[], \"max_depth\":[]},\n",
    "              \"RF\":{\"n_estimators\":[], \"max_depth\":[] },\n",
    "              \"XGB\":{\"learning_rate\":[], \"n_estimators\":[], \"max_depth\":[],\"min_child_weight\":[], \"nthread\":8}\n",
    "            }"
   ]
  },
  {
   "cell_type": "code",
   "execution_count": 2,
   "metadata": {},
   "outputs": [],
   "source": [
    "def sample_hp_Ai(Ai):\n",
    "    if(Ai is \"KNN\"):\n",
    "        parameters[\"KNN\"][\"n_neighbors\"].append(math.ceil(np.random.uniform(100)))\n",
    "        return(parameters[\"KNN\"])\n",
    "    elif(Ai is \"SVM\"):\n",
    "        parameters[\"SVM\"][\"C\"].append(float(\"{0:.2f}\".format(abs(np.random.normal(loc=1.0, scale=1.0)))))\n",
    "        parameters[\"SVM\"][\"kernel\"].append(np.random.choice([\"linear\", \"rbf\"]))\n",
    "        parameters[\"SVM\"][\"degree\"].append(np.random.randint(1,4))\n",
    "        return(parameters[\"SVM\"])\n",
    "    elif(Ai is \"GP\"):\n",
    "        parameters[\"GP\"][\"kernel\"].append(np.random.choice([\"linear\", \"rbf\"]))\n",
    "        parameters[\"GP\"][\"n_restarts_optimizer\"].append(np.random.randint(1,10))\n",
    "        return(parameters[\"GP\"])\n",
    "    elif(Ai is \"DT\"):\n",
    "        parameters[\"DT\"][\"splitter\"].append(np.random.choice([\"best\", \"random\"]))\n",
    "        parameters[\"DT\"][\"max_depth\"].append(np.random.randint(1,100))\n",
    "        return(parameters[\"DT\"])\n",
    "    elif(Ai is \"RF\"):\n",
    "        parameters[\"RF\"][\"n_estimators\"].append(np.random.randint(1,20))\n",
    "        parameters[\"RF\"][\"max_depth\"].append(np.random.randint(1,100))\n",
    "        return(parameters[\"RF\"])\n",
    "    elif(Ai is \"XGB\"):\n",
    "        parameters[\"XGB\"][\"learning_rate\"].append(float(\"{0:.2f}\".format(abs(np.random.normal(loc=1.0, scale=1.0)))))\n",
    "        parameters[\"XGB\"][\"n_estimators\"].append(np.random.randint(800,2000))\n",
    "        parameters[\"XGB\"][\"max_depth\"].append(np.random.randint(5,200))\n",
    "        parameters[\"XGB\"][\"min_child_weight\"].append(np.random.randint(1,10))\n",
    "        return(parameters[\"XGB\"])"
   ]
  },
  {
   "cell_type": "code",
   "execution_count": 3,
   "metadata": {
    "collapsed": true
   },
   "outputs": [],
   "source": [
    "def get_params(A, B, P, N):\n",
    "    mu = np.random.dirichlet(P)\n",
    "    N = [int(mu_i*N) for mu_i in mu]\n",
    "    [sample_hp_Ai(Classifiers[i]) for i in range(len(Classifiers)) for j in range(N[i])]\n",
    "    Phi = sample_hp_Ai(\"XGB\")\n",
    "    Psi = [parameters[key] for key in parameters if key is not \"XGB\"]\n",
    "    return Phi, N, Psi"
   ]
  },
  {
   "cell_type": "code",
   "execution_count": 4,
   "metadata": {},
   "outputs": [
    {
     "data": {
      "text/plain": [
       "({'learning_rate': [2.1],\n",
       "  'max_depth': [174],\n",
       "  'min_child_weight': [3],\n",
       "  'n_estimators': [1831],\n",
       "  'nthread': 8},\n",
       " [3, 2, 2, 1, 0, 0],\n",
       " [{'n_jobs': -1, 'n_neighbors': [30, 62, 96]},\n",
       "  {'C': [1.13, 0.68],\n",
       "   'degree': [3, 1],\n",
       "   'kernel': ['rbf', 'rbf'],\n",
       "   'probability': True},\n",
       "  {'kernel': ['linear', 'rbf'], 'n_jobs': -1, 'n_restarts_optimizer': [9, 3]},\n",
       "  {'max_depth': [79], 'splitter': ['best']},\n",
       "  {'max_depth': [], 'n_estimators': []}])"
      ]
     },
     "execution_count": 4,
     "metadata": {},
     "output_type": "execute_result"
    }
   ],
   "source": [
    "get_params(Classifiers, \"RF\", P=(np.arange(1,len(Classifiers)+1)*100)[::-1], N=10)"
   ]
  },
  {
   "cell_type": "code",
   "execution_count": 5,
   "metadata": {},
   "outputs": [
    {
     "name": "stdout",
     "output_type": "stream",
     "text": [
      "KNN {'n_neighbors': [30, 62, 96], 'n_jobs': -1}\n",
      "SVM {'C': [1.13, 0.68], 'kernel': ['rbf', 'rbf'], 'degree': [3, 1], 'probability': True}\n",
      "GP {'kernel': ['linear', 'rbf'], 'n_restarts_optimizer': [9, 3], 'n_jobs': -1}\n",
      "DT {'splitter': ['best'], 'max_depth': [79]}\n",
      "RF {'n_estimators': [], 'max_depth': []}\n",
      "XGB {'learning_rate': [2.1], 'n_estimators': [1831], 'max_depth': [174], 'min_child_weight': [3], 'nthread': 8}\n"
     ]
    }
   ],
   "source": [
    "for key in parameters:\n",
    "    print(key,parameters[key])"
   ]
  },
  {
   "cell_type": "code",
   "execution_count": 6,
   "metadata": {},
   "outputs": [],
   "source": [
    "def Blend(A, B, D, L, Phi, N, Psi):\n",
    "    p = np.random.normal(loc=0.7, scale=0.1)\n",
    "    Dfw = []\n",
    "    M = []\n",
    "    for l in range(1,L+1):\n",
    "        D_dash = D.sample(frac=p)\n",
    "        orig_index = sorted(Df.index.tolist())\n",
    "        train_index = sorted(d_dash.index.tolist())\n",
    "        test_index = sorted(set(orig_index) - set(train_index))\n",
    "        D_dash_bar = Df.ix[test_index]\n",
    "        \n",
    "        for i in range(1,m+1):\n",
    "            for j in range(1,N[i]+1):\n",
    "                None"
   ]
  },
  {
   "cell_type": "code",
   "execution_count": 7,
   "metadata": {},
   "outputs": [
    {
     "ename": "SyntaxError",
     "evalue": "unexpected EOF while parsing (<ipython-input-7-287a497d3bb2>, line 6)",
     "output_type": "error",
     "traceback": [
      "\u001b[0;36m  File \u001b[0;32m\"<ipython-input-7-287a497d3bb2>\"\u001b[0;36m, line \u001b[0;32m6\u001b[0m\n\u001b[0;31m    \u001b[0m\n\u001b[0m    ^\u001b[0m\n\u001b[0;31mSyntaxError\u001b[0m\u001b[0;31m:\u001b[0m unexpected EOF while parsing\n"
     ]
    }
   ],
   "source": [
    "def blending_ensemble(A, B, D, P, N, k, R):\n",
    "    L = 2\n",
    "    M = []\n",
    "    for r in range(1,R+1):\n",
    "        Phi_r, N_r, Psi_r = get_params(A, B, P, N=10)\n",
    "        for t in range(1,k+1):\n",
    "            M.append(Blend(A,B,))"
   ]
  }
 ],
 "metadata": {
  "kernelspec": {
   "display_name": "Python 3",
   "language": "python",
   "name": "python3"
  },
  "language_info": {
   "codemirror_mode": {
    "name": "ipython",
    "version": 3
   },
   "file_extension": ".py",
   "mimetype": "text/x-python",
   "name": "python",
   "nbconvert_exporter": "python",
   "pygments_lexer": "ipython3",
   "version": "3.6.3"
  }
 },
 "nbformat": 4,
 "nbformat_minor": 2
}
