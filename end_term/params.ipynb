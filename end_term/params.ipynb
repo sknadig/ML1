{
 "cells": [
  {
   "cell_type": "code",
   "execution_count": 4,
   "metadata": {},
   "outputs": [],
   "source": [
    "import numpy as np\n",
    "import scipy as sp\n",
    "import math\n",
    "from sklearn.model_selection import train_test_split\n",
    "from sklearn.neighbors import KNeighborsClassifier\n",
    "from sklearn.svm import SVC\n",
    "from sklearn.gaussian_process import GaussianProcessClassifier\n",
    "from sklearn.gaussian_process.kernels import RBF\n",
    "from sklearn.tree import DecisionTreeClassifier\n",
    "from sklearn.ensemble import RandomForestClassifier, AdaBoostClassifier\n",
    "\n",
    "names = [\"KNN\", \"SVM\", \"Gaussian_Process\",\n",
    "         \"Decision_Tree\", \"Random_Forest\", \"Neural_Net\", \"AdaBoost\",\n",
    "         \"Naive_Bayes\", \"QDA\"]\n",
    "\n",
    "classifiers = [\n",
    "    KNeighborsClassifier(3),\n",
    "    SVC(gamma=2, C=1, kernel=\"linear\"),\n",
    "    GaussianProcessClassifier(1.0 * RBF(1.0)),\n",
    "    DecisionTreeClassifier(max_depth=5),\n",
    "    RandomForestClassifier(max_depth=5, n_estimators=10, max_features=1)]\n",
    "\n",
    "parameters = {\"KNN\":{\"n_neighbors\":50, \"n_jobs\":-1},\n",
    "              \"SVM\":{\"C\":1.0,\"kernel\":\"linear\",\"degree\":1,\"probability\":True},\n",
    "              \"GP\":{\"kernel\":\"linear\",\"n_restarts_optimizer\":2, \"n_jobs\":-1},\n",
    "              \"DT\":{\"splitter\":\"best\", \"max_depth\":100},\n",
    "              \"RF\":{\"n_estimators\":10, \"max_depth\":100 },\n",
    "            }\n",
    "# X, y = make_classification(n_samples = 1000, n_features=4, n_redundant=0, n_informative=2,random_state=1, n_clusters_per_class=1)"
   ]
  },
  {
   "cell_type": "code",
   "execution_count": 5,
   "metadata": {
    "collapsed": true
   },
   "outputs": [],
   "source": [
    "def sample_hp_Ai(Ai):\n",
    "    if(Ai is \"KNN\"):\n",
    "        parameters[\"KNN\"][\"n_neighbors\"] = math.ceil(np.random.uniform(100))\n",
    "    elif(Ai is \"SVM\"):\n",
    "        parameters[\"SVM\"][\"C\"] = float(\"{0:.2f}\".format(abs(np.random.normal(loc=1.0, scale=1.0))))\n",
    "        parameters[\"SVM\"][\"kernel\"] = np.random.choice([\"linear\", \"rbf\"])\n",
    "        parameters[\"SVM\"][\"degree\"] = np.random.randint(1,4)\n",
    "    elif(Ai is \"GP\"):\n",
    "        parameters[\"GP\"][\"C\"] = float(\"{0:.2f}\".format(abs(np.random.normal(loc=1.0, scale=1.0))))\n",
    "        parameters[\"GP\"][\"n_restarts_optimizer\"] = np.random.randint(1,10)\n",
    "    elif(Ai is \"DT\"):\n",
    "        parameters[\"DT\"][\"splitter\"] = np.random.choice([\"best\", \"random\"])\n",
    "        parameters[\"DT\"][\"max_depth\"] =np.random.randint(1,100)\n",
    "    elif(Ai is \"RF\"):\n",
    "        parameters[\"RF\"][\"n_estimators\"] = np.random.randint(1,20)\n",
    "        parameters[\"RF\"][\"max_depth\"] = np.random.randint(1,100)"
   ]
  },
  {
   "cell_type": "code",
   "execution_count": 16,
   "metadata": {
    "collapsed": true
   },
   "outputs": [],
   "source": [
    "def get_params(A, B, P, N):\n",
    "    mu = np.random.dirichlet(P)\n",
    "    Ni = [int(mu_i*N) for mu_i in mu]\n",
    "    return mu, Ni"
   ]
  },
  {
   "cell_type": "code",
   "execution_count": 17,
   "metadata": {},
   "outputs": [
    {
     "data": {
      "text/plain": [
       "(array([ 0.51271906,  0.25940917,  0.17652167,  0.0513501 ]), [5, 2, 1, 0])"
      ]
     },
     "execution_count": 17,
     "metadata": {},
     "output_type": "execute_result"
    }
   ],
   "source": [
    "get_params(A=\"SVM\", B=\"RF\", P=[100,50,25,10], N=10)"
   ]
  },
  {
   "cell_type": "code",
   "execution_count": 7,
   "metadata": {},
   "outputs": [
    {
     "name": "stdout",
     "output_type": "stream",
     "text": [
      "KNN\t{'n_neighbors': 4, 'n_jobs': -1}\n",
      "SVM\t{'C': 2.37, 'kernel': 'rbf', 'degree': 2, 'probability': True}\n",
      "GP\t{'kernel': 'linear', 'n_restarts_optimizer': 8, 'n_jobs': -1, 'C': 0.99}\n",
      "DT\t{'splitter': 'best', 'max_depth': 24}\n",
      "RF\t{'n_estimators': 9, 'max_depth': 9}\n"
     ]
    }
   ],
   "source": [
    "sample_hp_Ai(\"KNN\")\n",
    "sample_hp_Ai(\"SVM\")\n",
    "sample_hp_Ai(\"GP\")\n",
    "sample_hp_Ai(\"DT\")\n",
    "sample_hp_Ai(\"RF\")\n",
    "for key in parameters:\n",
    "    print(\"{0}\\t{1}\".format(key,parameters[key]))"
   ]
  }
 ],
 "metadata": {
  "kernelspec": {
   "display_name": "Python 3",
   "language": "python",
   "name": "python3"
  },
  "language_info": {
   "codemirror_mode": {
    "name": "ipython",
    "version": 3
   },
   "file_extension": ".py",
   "mimetype": "text/x-python",
   "name": "python",
   "nbconvert_exporter": "python",
   "pygments_lexer": "ipython3",
   "version": "3.6.3"
  }
 },
 "nbformat": 4,
 "nbformat_minor": 2
}
