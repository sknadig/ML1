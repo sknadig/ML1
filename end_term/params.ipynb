{
 "cells": [
  {
   "cell_type": "code",
   "execution_count": 3,
   "metadata": {},
   "outputs": [],
   "source": [
    "import numpy as np\n",
    "import scipy as sp\n",
    "import math\n",
    "import xgboost as xgb\n",
    "from sklearn.model_selection import train_test_split\n",
    "from sklearn.neighbors import KNeighborsClassifier\n",
    "from sklearn.svm import SVC\n",
    "from sklearn.gaussian_process import GaussianProcessClassifier\n",
    "from sklearn.gaussian_process.kernels import RBF\n",
    "from sklearn.tree import DecisionTreeClassifier\n",
    "from sklearn.ensemble import RandomForestClassifier, AdaBoostClassifier\n",
    "\n",
    "classifiers = [\n",
    "    KNeighborsClassifier(3),\n",
    "    SVC(gamma=2, C=1, kernel=\"linear\"),\n",
    "    GaussianProcessClassifier(1.0 * RBF(1.0)),\n",
    "    DecisionTreeClassifier(max_depth=5),\n",
    "    RandomForestClassifier(max_depth=5, n_estimators=10, max_features=1)]\n",
    "\n",
    "Classifiers = [\"KNN\", \"SVM\", \"GP\", \"DT\", \"RF\"]\n",
    "Beta = \"XGB\"\n",
    "\n",
    "parameters = {\"KNN\":{\"n_neighbors\":50, \"n_jobs\":-1},\n",
    "              \"SVM\":{\"C\":1.0,\"kernel\":\"linear\",\"degree\":1,\"probability\":True},\n",
    "              \"GP\":{\"kernel\":\"linear\",\"n_restarts_optimizer\":2, \"n_jobs\":-1},\n",
    "              \"DT\":{\"splitter\":\"best\", \"max_depth\":100},\n",
    "              \"RF\":{\"n_estimators\":10, \"max_depth\":100 },\n",
    "              \"XGB\":{\"learning_rate\":0.1, \"n_estimators\":1000, \"max_depth\":5,\"min_child_weight\":1, \"nthread\":8}\n",
    "            }\n"
   ]
  },
  {
   "cell_type": "code",
   "execution_count": 4,
   "metadata": {
    "collapsed": true
   },
   "outputs": [],
   "source": [
    "def sample_hp_Ai(Ai):\n",
    "    if(Ai is \"KNN\"):\n",
    "        parameters[\"KNN\"][\"n_neighbors\"] = math.ceil(np.random.uniform(100))\n",
    "        return(parameters[\"KNN\"])\n",
    "    elif(Ai is \"SVM\"):\n",
    "        parameters[\"SVM\"][\"C\"] = float(\"{0:.2f}\".format(abs(np.random.normal(loc=1.0, scale=1.0))))\n",
    "        parameters[\"SVM\"][\"kernel\"] = np.random.choice([\"linear\", \"rbf\"])\n",
    "        parameters[\"SVM\"][\"degree\"] = np.random.randint(1,4)\n",
    "        return(parameters[\"SVM\"])\n",
    "    elif(Ai is \"GP\"):\n",
    "        parameters[\"GP\"][\"C\"] = float(\"{0:.2f}\".format(abs(np.random.normal(loc=1.0, scale=1.0))))\n",
    "        parameters[\"GP\"][\"n_restarts_optimizer\"] = np.random.randint(1,10)\n",
    "        return(parameters[\"GP\"])\n",
    "    elif(Ai is \"DT\"):\n",
    "        parameters[\"DT\"][\"splitter\"] = np.random.choice([\"best\", \"random\"])\n",
    "        parameters[\"DT\"][\"max_depth\"] =np.random.randint(1,100)\n",
    "        return(parameters[\"DT\"])\n",
    "    elif(Ai is \"RF\"):\n",
    "        parameters[\"RF\"][\"n_estimators\"] = np.random.randint(1,20)\n",
    "        parameters[\"RF\"][\"max_depth\"] = np.random.randint(1,100)\n",
    "        return(parameters[\"RF\"])\n",
    "    elif(Ai is \"XGB\"):\n",
    "        parameters[\"XGB\"][\"learning_rate\"] = float(\"{0:.2f}\".format(abs(np.random.normal(loc=1.0, scale=1.0))))\n",
    "        parameters[\"XGB\"][\"n_estimators\"] = np.random.randint(800,2000)\n",
    "        parameters[\"XGB\"][\"max_depth\"] = np.random.randint(5,200)\n",
    "        parameters[\"XGB\"][\"min_child_weight\"] = np.random.randint(1,10)\n",
    "        return(parameters[\"XGB\"])"
   ]
  },
  {
   "cell_type": "code",
   "execution_count": 5,
   "metadata": {
    "collapsed": true
   },
   "outputs": [],
   "source": [
    "def get_params(A, B, P, N):\n",
    "    Phi = []\n",
    "    Psi = []\n",
    "    mu = np.random.dirichlet(P)\n",
    "    Ni = [int(mu_i*N) for mu_i in mu]\n",
    "    print(\"mu is: \", mu)\n",
    "    print(\"Ni is: \",Ni)\n",
    "    for i in range(len(Classifiers)):\n",
    "        print(\"Sampling for {0}\".format(Classifiers[i]))\n",
    "        temp = []\n",
    "        for j in range(Ni[i]):\n",
    "            temp.append(sample_hp_Ai(Classifiers[i]))\n",
    "        Psi.append(temp)\n",
    "    Phi.append(sample_hp_Ai(\"XGB\"))\n",
    "    return Phi, Ni, Psi"
   ]
  },
  {
   "cell_type": "code",
   "execution_count": 6,
   "metadata": {},
   "outputs": [
    {
     "name": "stdout",
     "output_type": "stream",
     "text": [
      "KNN\t{'n_neighbors': 27, 'n_jobs': -1}\n",
      "SVM\t{'C': 0.43, 'kernel': 'linear', 'degree': 2, 'probability': True}\n",
      "GP\t{'kernel': 'linear', 'n_restarts_optimizer': 4, 'n_jobs': -1, 'C': 1.25}\n",
      "DT\t{'splitter': 'random', 'max_depth': 42}\n",
      "RF\t{'n_estimators': 1, 'max_depth': 58}\n",
      "XGB\t{'learning_rate': 0.1, 'n_estimators': 1000, 'max_depth': 5, 'min_child_weight': 1, 'nthread': 8}\n"
     ]
    }
   ],
   "source": [
    "sample_hp_Ai(\"KNN\")\n",
    "sample_hp_Ai(\"SVM\")\n",
    "sample_hp_Ai(\"GP\")\n",
    "sample_hp_Ai(\"DT\")\n",
    "sample_hp_Ai(\"RF\")\n",
    "for key in parameters:\n",
    "    print(\"{0}\\t{1}\".format(key,parameters[key]))"
   ]
  },
  {
   "cell_type": "code",
   "execution_count": 7,
   "metadata": {},
   "outputs": [
    {
     "name": "stdout",
     "output_type": "stream",
     "text": [
      "mu is:  [ 0.3422222   0.249876    0.19810667  0.14015364  0.06964148]\n",
      "Ni is:  [3, 2, 1, 1, 0]\n",
      "Sampling for KNN\n",
      "Sampling for SVM\n",
      "Sampling for GP\n",
      "Sampling for DT\n",
      "Sampling for RF\n"
     ]
    },
    {
     "data": {
      "text/plain": [
       "([{'learning_rate': 1.81,\n",
       "   'max_depth': 171,\n",
       "   'min_child_weight': 1,\n",
       "   'n_estimators': 895,\n",
       "   'nthread': 8}],\n",
       " [3, 2, 1, 1, 0],\n",
       " [[{'n_jobs': -1, 'n_neighbors': 45},\n",
       "   {'n_jobs': -1, 'n_neighbors': 45},\n",
       "   {'n_jobs': -1, 'n_neighbors': 45}],\n",
       "  [{'C': 0.09, 'degree': 3, 'kernel': 'linear', 'probability': True},\n",
       "   {'C': 0.09, 'degree': 3, 'kernel': 'linear', 'probability': True}],\n",
       "  [{'C': 0.05, 'kernel': 'linear', 'n_jobs': -1, 'n_restarts_optimizer': 2}],\n",
       "  [{'max_depth': 95, 'splitter': 'best'}],\n",
       "  []])"
      ]
     },
     "execution_count": 7,
     "metadata": {},
     "output_type": "execute_result"
    }
   ],
   "source": [
    "get_params(Classifiers, \"RF\", P=(np.arange(1,len(Classifiers)+1)*100)[::-1], N=10)"
   ]
  },
  {
   "cell_type": "code",
   "execution_count": 8,
   "metadata": {},
   "outputs": [
    {
     "data": {
      "text/plain": [
       "array([100, 200, 300, 400, 500])"
      ]
     },
     "execution_count": 8,
     "metadata": {},
     "output_type": "execute_result"
    }
   ],
   "source": [
    "(np.arange(1,len(Classifiers)+1)*100)"
   ]
  }
 ],
 "metadata": {
  "kernelspec": {
   "display_name": "Python 3",
   "language": "python",
   "name": "python3"
  },
  "language_info": {
   "codemirror_mode": {
    "name": "ipython",
    "version": 3
   },
   "file_extension": ".py",
   "mimetype": "text/x-python",
   "name": "python",
   "nbconvert_exporter": "python",
   "pygments_lexer": "ipython3",
   "version": "3.6.3"
  }
 },
 "nbformat": 4,
 "nbformat_minor": 2
}
